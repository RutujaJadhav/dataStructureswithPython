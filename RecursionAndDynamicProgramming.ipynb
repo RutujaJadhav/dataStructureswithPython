{
  "nbformat": 4,
  "nbformat_minor": 0,
  "metadata": {
    "colab": {
      "name": "RecursionAndDynamicProgramming.ipynb",
      "version": "0.3.2",
      "provenance": [],
      "include_colab_link": true
    },
    "kernelspec": {
      "name": "python3",
      "display_name": "Python 3"
    }
  },
  "cells": [
    {
      "cell_type": "markdown",
      "metadata": {
        "id": "view-in-github",
        "colab_type": "text"
      },
      "source": [
        "<a href=\"https://colab.research.google.com/github/RutujaJadhav/dataStructureswithPython/blob/master/RecursionAndDynamicProgramming.ipynb\" target=\"_parent\"><img src=\"https://colab.research.google.com/assets/colab-badge.svg\" alt=\"Open In Colab\"/></a>"
      ]
    },
    {
      "cell_type": "markdown",
      "metadata": {
        "id": "Cr-FRjwnpZm8",
        "colab_type": "text"
      },
      "source": [
        "# Recursion\n",
        "What is base condition in recursion?\n",
        "In the recursive program, the solution to the base case is provided and the solution of the bigger problem is expressed in terms of smaller problems.\n",
        "\n"
      ]
    },
    {
      "cell_type": "code",
      "metadata": {
        "id": "BdMG8UDBoiWx",
        "colab_type": "code",
        "colab": {
          "base_uri": "https://localhost:8080/",
          "height": 34
        },
        "outputId": "1e6eff71-6a54-4308-cb31-3eb47358e127"
      },
      "source": [
        "import math\n",
        "def fact(n):\n",
        "  \n",
        "  if (n<=1):\n",
        "    return 0 ;\n",
        "  else:\n",
        "    \n",
        "    return math.log(n)+fact(n-1)#plates stacked \n",
        "\n",
        "\n",
        "\n",
        "fact(2)"
      ],
      "execution_count": 41,
      "outputs": [
        {
          "output_type": "execute_result",
          "data": {
            "text/plain": [
              "0.6931471805599453"
            ]
          },
          "metadata": {
            "tags": []
          },
          "execution_count": 41
        }
      ]
    },
    {
      "cell_type": "markdown",
      "metadata": {
        "id": "k-xXh8MEqX5I",
        "colab_type": "text"
      },
      "source": [
        "#Tip\n",
        "Python functions are defined without return type and with keyword def. The type of parameters is not defined\n",
        "\n",
        "When a recursive call is made it can be thought of stacking a plate of that number connected by the logical operation defined. When the base condition is reached, the reverse Execution takes place.\n",
        "\n",
        "To solve a problem by recursion derive a relation between n and n-1"
      ]
    },
    {
      "cell_type": "code",
      "metadata": {
        "id": "zh2gyuSOp_vm",
        "colab_type": "code",
        "colab": {
          "base_uri": "https://localhost:8080/",
          "height": 34
        },
        "outputId": "7cbc3c8c-de09-4827-fdb9-ca50ec3b6d4e"
      },
      "source": [
        "def series(n):\n",
        "  if (n==1):\n",
        "    return 1\n",
        "  else:\n",
        "    return (math.pow(n,n) + series(n-1))\n",
        "\n",
        "series(4)\n"
      ],
      "execution_count": 53,
      "outputs": [
        {
          "output_type": "execute_result",
          "data": {
            "text/plain": [
              "288.0"
            ]
          },
          "metadata": {
            "tags": []
          },
          "execution_count": 53
        }
      ]
    },
    {
      "cell_type": "code",
      "metadata": {
        "id": "vJaJlHtUx_1O",
        "colab_type": "code",
        "colab": {
          "base_uri": "https://localhost:8080/",
          "height": 34
        },
        "outputId": "e8033cad-a446-4474-a8da-52c1ccf3aa3f"
      },
      "source": [
        "def fib(n):\n",
        "  if (n<=2):\n",
        "    return n-1\n",
        " \n",
        "  return fib(n-1)+fib(n-2)\n",
        "\n",
        "fib(3)\n"
      ],
      "execution_count": 78,
      "outputs": [
        {
          "output_type": "execute_result",
          "data": {
            "text/plain": [
              "4"
            ]
          },
          "metadata": {
            "tags": []
          },
          "execution_count": 78
        }
      ]
    },
    {
      "cell_type": "markdown",
      "metadata": {
        "id": "rGVeADowbsck",
        "colab_type": "text"
      },
      "source": [
        "Top-down and bottoms-up and 2 approaches. Some algos eg:merge sort use half-and-half. The problem with recursive problems is the space complexity, discuss the trade-offs with iterative approach of loops."
      ]
    },
    {
      "cell_type": "markdown",
      "metadata": {
        "id": "flCIXwavcNW2",
        "colab_type": "text"
      },
      "source": [
        "#Dynamic Programming \n",
        "\n",
        "What is DP? It is a method to optimize recursion by finding overlapping subproblems and caching those results for future recursive calls\n",
        "\n",
        "Top down way of DP is called **memoization** The earlier example of fibonacci can be modified by maintaining an array memo for storing results which have already been processed."
      ]
    },
    {
      "cell_type": "code",
      "metadata": {
        "id": "av1a1lIy4HQM",
        "colab_type": "code",
        "colab": {
          "base_uri": "https://localhost:8080/",
          "height": 34
        },
        "outputId": "6ac80055-6043-457c-ab6e-cdd64e26e2ab"
      },
      "source": [
        "\n",
        "def fib(n,memo):\n",
        "  if (n<=2):\n",
        "    return n-1\n",
        "  if (memo[n]==0):\n",
        "    memo[n] = fib(n-1,memo)+fib(n-2,memo)\n",
        "  return memo[n]\n",
        "\n",
        "fib(5,[0,0,0,0,0,0])\n"
      ],
      "execution_count": 89,
      "outputs": [
        {
          "output_type": "execute_result",
          "data": {
            "text/plain": [
              "3"
            ]
          },
          "metadata": {
            "tags": []
          },
          "execution_count": 89
        }
      ]
    },
    {
      "cell_type": "markdown",
      "metadata": {
        "id": "6z4mdZmZi7YE",
        "colab_type": "text"
      },
      "source": [
        "every number in series with a[n]= a[n-1]+a[n-2]+...+a[n-b] gives count of no of ways upto b steps can be taken everytime to reach a steps in all.\n",
        "\n",
        "The best way of array value lookup in a sorted array is through binary search."
      ]
    },
    {
      "cell_type": "code",
      "metadata": {
        "id": "9JU-tsByfXsE",
        "colab_type": "code",
        "colab": {}
      },
      "source": [
        ""
      ],
      "execution_count": 0,
      "outputs": []
    }
  ]
}