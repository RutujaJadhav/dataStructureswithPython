{
  "nbformat": 4,
  "nbformat_minor": 0,
  "metadata": {
    "colab": {
      "name": "DataStructuresAndAlgoritms_trees.ipynb",
      "version": "0.3.2",
      "provenance": [],
      "collapsed_sections": [],
      "include_colab_link": true
    },
    "kernelspec": {
      "name": "python3",
      "display_name": "Python 3"
    }
  },
  "cells": [
    {
      "cell_type": "markdown",
      "metadata": {
        "id": "view-in-github",
        "colab_type": "text"
      },
      "source": [
        "<a href=\"https://colab.research.google.com/github/RutujaJadhav/dataStructureswithPython/blob/master/DataStructuresAndAlgoritms_trees.ipynb\" target=\"_parent\"><img src=\"https://colab.research.google.com/assets/colab-badge.svg\" alt=\"Open In Colab\"/></a>"
      ]
    },
    {
      "cell_type": "markdown",
      "metadata": {
        "id": "c_jrZ9fMsCnC",
        "colab_type": "text"
      },
      "source": [
        "#Creating a tree\n",
        "Solving tree problems is based on recursion. A node consists of value and max 2 children in case of binary tree"
      ]
    },
    {
      "cell_type": "code",
      "metadata": {
        "id": "TbIfvCBMq30i",
        "colab_type": "code",
        "outputId": "c55f9ec4-458b-4750-a58b-58239e13a422",
        "colab": {
          "base_uri": "https://localhost:8080/",
          "height": 34
        }
      },
      "source": [
        "class Node:\n",
        "  def __init__(self,key):\n",
        "    self.right = None;\n",
        "    self.left = None;\n",
        "    self.val = key;\n",
        "    ##Self used at the time of object creation\n",
        "\n",
        "root = Node(2)\n",
        "root.left = Node(1)\n",
        "root.right = Node(3)\n",
        "print (root)"
      ],
      "execution_count": 25,
      "outputs": [
        {
          "output_type": "stream",
          "text": [
            "<__main__.Node object at 0x7f2b61023940>\n"
          ],
          "name": "stdout"
        }
      ]
    },
    {
      "cell_type": "markdown",
      "metadata": {
        "id": "Q4FYUoFr19YD",
        "colab_type": "text"
      },
      "source": [
        "For visualization of tree structure - http://www.pythontutor.com/visualize.html"
      ]
    },
    {
      "cell_type": "markdown",
      "metadata": {
        "id": "RIHXfwyTwA8a",
        "colab_type": "text"
      },
      "source": [
        "#Traversing a tree"
      ]
    },
    {
      "cell_type": "code",
      "metadata": {
        "id": "Upv5Odpty-Gc",
        "colab_type": "code",
        "colab": {
          "base_uri": "https://localhost:8080/",
          "height": 119
        },
        "outputId": "cdbfcb85-7b20-4bbb-d234-5a491070556f"
      },
      "source": [
        "def preOrder(Node):\n",
        "  if Node:\n",
        "    print(Node.val);\n",
        "    preOrder(Node.left);\n",
        "    preOrder(Node.right);\n",
        "    \n",
        "root = Node(2)\n",
        "root.left = Node(1)\n",
        "root.right = Node(3)\n",
        "root.left.right= Node(4)\n",
        "root.left.left= Node(5)\n",
        "print (root)\n",
        "preOrder(root)"
      ],
      "execution_count": 26,
      "outputs": [
        {
          "output_type": "stream",
          "text": [
            "<__main__.Node object at 0x7f2b61023e48>\n",
            "2\n",
            "1\n",
            "5\n",
            "4\n",
            "3\n"
          ],
          "name": "stdout"
        }
      ]
    },
    {
      "cell_type": "code",
      "metadata": {
        "id": "aK89Mo7AtWnI",
        "colab_type": "code",
        "colab": {
          "base_uri": "https://localhost:8080/",
          "height": 102
        },
        "outputId": "8f938283-3dd6-4457-cd9b-838cd0e275e3"
      },
      "source": [
        "def inOrder(Node):\n",
        "  if Node:\n",
        "    \n",
        "    inOrder(Node.left);\n",
        "    print(Node.val);\n",
        "    inOrder(Node.right);\n",
        "  \n",
        "inOrder(root)"
      ],
      "execution_count": 27,
      "outputs": [
        {
          "output_type": "stream",
          "text": [
            "5\n",
            "1\n",
            "4\n",
            "2\n",
            "3\n"
          ],
          "name": "stdout"
        }
      ]
    },
    {
      "cell_type": "code",
      "metadata": {
        "id": "8r6k4y6GvKIM",
        "colab_type": "code",
        "colab": {
          "base_uri": "https://localhost:8080/",
          "height": 102
        },
        "outputId": "5998326c-21ea-4c9f-9632-79d66fd070d1"
      },
      "source": [
        "def postOrder(Node):\n",
        "  if Node:\n",
        "    postOrder(Node.left)\n",
        "    postOrder(Node.right)\n",
        "    print(Node.val)\n",
        "    \n",
        "postOrder(root)"
      ],
      "execution_count": 22,
      "outputs": [
        {
          "output_type": "stream",
          "text": [
            "5\n",
            "4\n",
            "1\n",
            "3\n",
            "2\n"
          ],
          "name": "stdout"
        }
      ]
    },
    {
      "cell_type": "markdown",
      "metadata": {
        "id": "9wh7UGfwx5jR",
        "colab_type": "text"
      },
      "source": [
        "#Constructing a binary search tree"
      ]
    },
    {
      "cell_type": "code",
      "metadata": {
        "id": "5RQly2pkvuFQ",
        "colab_type": "code",
        "colab": {
          "base_uri": "https://localhost:8080/",
          "height": 34
        },
        "outputId": "8ebb73dd-ce7b-4110-f536-db3e60af1c4b"
      },
      "source": [
        "def insert(root,node): \n",
        "    if root is None: \n",
        "        root = node \n",
        "    else: \n",
        "        if root.val < node.val: \n",
        "            if root.right is None: \n",
        "                root.right = node \n",
        "            else: \n",
        "                insert(root.right, node) \n",
        "        else: \n",
        "            if root.left is None: \n",
        "                root.left = node \n",
        "            else: \n",
        "                insert(root.left, node) \n",
        "\n",
        "                \n",
        "r = Node(1) \n",
        "print (r)\n",
        "insert(r,Node(20))\n",
        "insert(r,Node(10))\n",
        "insert(r,Node(2))"
      ],
      "execution_count": 31,
      "outputs": [
        {
          "output_type": "stream",
          "text": [
            "<__main__.Node object at 0x7f2b6104cf98>\n"
          ],
          "name": "stdout"
        }
      ]
    },
    {
      "cell_type": "code",
      "metadata": {
        "id": "UBknTTyMybfX",
        "colab_type": "code",
        "colab": {}
      },
      "source": [
        ""
      ],
      "execution_count": 0,
      "outputs": []
    }
  ]
}