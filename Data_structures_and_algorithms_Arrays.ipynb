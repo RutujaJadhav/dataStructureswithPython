{
  "nbformat": 4,
  "nbformat_minor": 0,
  "metadata": {
    "colab": {
      "name": "Data structures and algorithms-Arrays.ipynb",
      "version": "0.3.2",
      "provenance": [],
      "collapsed_sections": [],
      "include_colab_link": true
    },
    "kernelspec": {
      "name": "python3",
      "display_name": "Python 3"
    }
  },
  "cells": [
    {
      "cell_type": "markdown",
      "metadata": {
        "id": "view-in-github",
        "colab_type": "text"
      },
      "source": [
        "<a href=\"https://colab.research.google.com/github/RutujaJadhav/dataStructureswithPython/blob/master/Data_structures_and_algorithms_Arrays.ipynb\" target=\"_parent\"><img src=\"https://colab.research.google.com/assets/colab-badge.svg\" alt=\"Open In Colab\"/></a>"
      ]
    },
    {
      "cell_type": "markdown",
      "metadata": {
        "id": "tjJaqnULLbkj",
        "colab_type": "text"
      },
      "source": [
        "\n",
        "Array is a data structure used to store homogeneous elements at contiguous locations. Python supports list data structure which is more generic than array. Arrays can be implemented as follows.\n",
        "\n",
        "\n",
        "When defining an instance method, the first parameter of the method should always be self. Self is set by convention and can be rewritten "
      ]
    },
    {
      "cell_type": "markdown",
      "metadata": {
        "id": "ZcRE0nt2MFfz",
        "colab_type": "text"
      },
      "source": [
        "## **Creating an array**"
      ]
    },
    {
      "cell_type": "code",
      "metadata": {
        "id": "VNJ-Av7WLR7M",
        "colab_type": "code",
        "outputId": "590dab60-9ea4-4a32-aa63-c16037ca233e",
        "colab": {
          "base_uri": "https://localhost:8080/",
          "height": 34
        }
      },
      "source": [
        "\n",
        "class Array11(object):\n",
        "    \n",
        "    def __init__(self, sizeOfArray, arrayType = int): # instance variable definition with __init__\n",
        "        \n",
        "        self.sizeOfArray = len(list(map(arrayType, range(sizeOfArray))))\n",
        "        self.arrayItems =[arrayType(0)] * sizeOfArray    # initialize array with zeroes\n",
        "        \n",
        "    def __str__(self):\n",
        "            return ' '.join([str(i) for i in self.arrayItems])\n",
        "            \n",
        "    # function for search\n",
        "    def search(self, keyToSearch):\n",
        "        for i in range(self.sizeOfArray):\n",
        "            if (self.arrayItems[i] == keyToSearch):    # brute-forcing\n",
        "                return i     # index at which element/ key was found\n",
        "            \n",
        "        return -1          # if key not found, return -1\n",
        "    \n",
        "    # function for inserting an element\n",
        "    def insert(self, keyToInsert, position):\n",
        "        if(self.sizeOfArray > position):\n",
        "            for i in range(self.sizeOfArray - 2, position - 1, -1):\n",
        "                self.arrayItems[i + 1] = self.arrayItems[i]\n",
        "            self.arrayItems[position] = keyToInsert\n",
        "        else:\n",
        "            print('Array size is:', self.sizeOfArray)\n",
        "            \n",
        "    # function to delete an element\n",
        "    def delete(self, keyToDelete, position):\n",
        "        if(self.sizeOfArray > position):\n",
        "            for i in range(position, self.sizeOfArray - 1):\n",
        "                self.arrayItems[i] = self.arrayItems[i + 1]\n",
        "        else:\n",
        "            print('Array size is:', self.sizeOfArray)\n",
        "    \n",
        "a = Array11(7)\n",
        "print(a)"
      ],
      "execution_count": 0,
      "outputs": [
        {
          "output_type": "stream",
          "text": [
            "0 0 0 0 0 0 0\n"
          ],
          "name": "stdout"
        }
      ]
    },
    {
      "cell_type": "markdown",
      "metadata": {
        "id": "UlMf7KxHQgbR",
        "colab_type": "text"
      },
      "source": [
        "Python-specific functions to remember for array implementation "
      ]
    },
    {
      "cell_type": "markdown",
      "metadata": {
        "id": "PafKmVMIRDz1",
        "colab_type": "text"
      },
      "source": [
        "## Print, append, insert and remove"
      ]
    },
    {
      "cell_type": "code",
      "metadata": {
        "id": "6J-fWycOLsdD",
        "colab_type": "code",
        "outputId": "08258119-4229-4270-eb69-1a03f7131091",
        "colab": {
          "base_uri": "https://localhost:8080/",
          "height": 68
        }
      },
      "source": [
        "import array\n",
        "arr= [1,2,3,4,5]\n",
        "for i in range(0,5):\n",
        "  print (i,end=\" \") # PRINTING ON SAME LINE\n",
        "  \n",
        "##append appends at the end of the array\n",
        "\n",
        "arr.append(5)\n",
        "print (arr)\n",
        "\n",
        "##insert at ath position - b\n",
        "\n",
        "arr.insert(2,9)\n",
        "print (arr)\n",
        "\n",
        "##remove elements from array\n",
        "\n",
        "arr.remove(3)\n",
        "print (arr)"
      ],
      "execution_count": 0,
      "outputs": [
        {
          "output_type": "stream",
          "text": [
            "0 1 2 3 4 [1, 2, 3, 4, 5, 5]\n",
            "[1, 2, 9, 3, 4, 5, 5]\n",
            "[1, 2, 9, 4, 5, 5]\n"
          ],
          "name": "stdout"
        }
      ]
    },
    {
      "cell_type": "markdown",
      "metadata": {
        "id": "REWGltGzUfJX",
        "colab_type": "text"
      },
      "source": [
        "Problems with arrays\n",
        "\n",
        "-- Fixed size\n",
        "-- Shifting operationsd are expensive\n",
        "--needs contiguous block of memory "
      ]
    },
    {
      "cell_type": "markdown",
      "metadata": {
        "id": "vwJfoF5dVLNW",
        "colab_type": "text"
      },
      "source": [
        "#Problems and useful tactics\n",
        "##Reversing an array\n",
        "\n",
        "The best and fast way of reversing an array is to set 2 pointers start and end to an array and interchange them, increment start and decrement end while start<end"
      ]
    },
    {
      "cell_type": "code",
      "metadata": {
        "id": "ZZH9WQaCQv88",
        "colab_type": "code",
        "outputId": "dc2c84bf-6817-4df8-9683-2a89e54fb0b1",
        "colab": {
          "base_uri": "https://localhost:8080/",
          "height": 51
        }
      },
      "source": [
        "def reverseArray(start,end,myArray):\n",
        "  while (start<end):\n",
        "    myArray[start], myArray[end]= myArray[end], myArray[start] #swap is so easy!\n",
        "    start+=1\n",
        "    end-=1\n",
        "  \n",
        "if __name__ == '__main__':\n",
        "    myArray = [1,2,34,5]\n",
        "    print('Array before Reversing:',myArray)\n",
        "    reverseArray(0, len(myArray)-1, myArray)\n",
        "    print('Array after Reversing:',myArray)\n",
        "  "
      ],
      "execution_count": 0,
      "outputs": [
        {
          "output_type": "stream",
          "text": [
            "Array before Reversing: [1, 2, 34, 5]\n",
            "Array after Reversing: [5, 34, 2, 1]\n"
          ],
          "name": "stdout"
        }
      ]
    },
    {
      "cell_type": "markdown",
      "metadata": {
        "id": "OJqhu_HQZOP7",
        "colab_type": "text"
      },
      "source": [
        "Rotating an array is swap a[i] and a[i+1] for whole length of array to rotate an array by one\n",
        "\n",
        "For more tactics\n",
        "https://hackernoon.com/python-tricks-101-2836251922e0"
      ]
    },
    {
      "cell_type": "code",
      "metadata": {
        "id": "ViqIFcruWOsU",
        "colab_type": "code",
        "colab": {}
      },
      "source": [
        "def rotateOne(myArray):\n",
        "    for i in range(len(myArray) - 1):\n",
        "        myArray[i], myArray[i + 1] = myArray[i + 1], myArray[i]"
      ],
      "execution_count": 0,
      "outputs": []
    },
    {
      "cell_type": "markdown",
      "metadata": {
        "id": "8c8LDJfOanJc",
        "colab_type": "text"
      },
      "source": [
        "xor is an important concept to test even odd number of elements\n",
        "0 xor a = a"
      ]
    },
    {
      "cell_type": "code",
      "metadata": {
        "id": "1InFo1TfcQbL",
        "colab_type": "code",
        "colab": {}
      },
      "source": [
        ""
      ],
      "execution_count": 0,
      "outputs": []
    },
    {
      "cell_type": "markdown",
      "metadata": {
        "id": "OwgZFIUSbBM5",
        "colab_type": "text"
      },
      "source": [
        "# Sorting and searching arrays\n",
        "\n",
        "https://medium.com/@george.seif94/a-tour-of-the-top-5-sorting-algorithms-with-python-code-43ea9aa02889"
      ]
    },
    {
      "cell_type": "markdown",
      "metadata": {
        "id": "6Gh7Hb31bu8R",
        "colab_type": "text"
      },
      "source": [
        "## Bubble sort\n",
        "The elements are swapped if they are in the wrong order. The pass through the unsorted portion of the list is repeated until the list is sorted. Because Bubble sort repeatedly passes through the unsorted part of the list, it has a worst case complexity of O(n²).\n",
        "\n",
        "Can be optimized by checking if 2 elements have been swapped, if yes don't need to reswap."
      ]
    },
    {
      "cell_type": "code",
      "metadata": {
        "id": "MQxLqxgQkBmN",
        "colab_type": "code",
        "colab": {}
      },
      "source": [
        "def bubble_sort(arr):\n",
        "    def swap(i, j):\n",
        "        arr[i], arr[j] = arr[j], arr[i]\n",
        "\n",
        "    n = len(arr)\n",
        "    swapped = True\n",
        "    \n",
        "    x = -1\n",
        "    while swapped:\n",
        "        swapped = False\n",
        "        x = x + 1\n",
        "        for i in range(1, n-x):\n",
        "            if arr[i - 1] > arr[i]:\n",
        "                swap(i - 1, i)\n",
        "                swapped = True\n",
        "                    \n",
        "    return arr"
      ],
      "execution_count": 0,
      "outputs": []
    },
    {
      "cell_type": "markdown",
      "metadata": {
        "id": "3QoiuHX8jtum",
        "colab_type": "text"
      },
      "source": [
        "##Selection sort\n",
        "\n",
        "You select the ith smallest number for ith position \n",
        "We first find the smallest element in the unsorted sublist and place it at the end of the sorted sublist. Thus, we are continuously grabbing the smallest unsorted element and placing it in sorted order in the sorted sublist. This process continues iteratively until the list is fully sorted."
      ]
    },
    {
      "cell_type": "markdown",
      "metadata": {
        "id": "VhaTyjKvj561",
        "colab_type": "text"
      },
      "source": [
        ""
      ]
    },
    {
      "cell_type": "code",
      "metadata": {
        "id": "XeccPqRAZb3l",
        "colab_type": "code",
        "colab": {}
      },
      "source": [
        "def selection_sort(arr):        \n",
        "    for i in range(len(arr)):\n",
        "        minimum = i\n",
        "        \n",
        "        for j in range(i + 1, len(arr)):\n",
        "            # Select the smallest value\n",
        "            if arr[j] < arr[minimum]:\n",
        "                minimum = j\n",
        "\n",
        "        # Place it at the front of the \n",
        "        # sorted end of the array\n",
        "        arr[minimum], arr[i] = arr[i], arr[minimum]\n",
        "            \n",
        "    return arr"
      ],
      "execution_count": 0,
      "outputs": []
    },
    {
      "cell_type": "markdown",
      "metadata": {
        "id": "DEmwU63jkHXK",
        "colab_type": "text"
      },
      "source": [
        "##Insertion sort\n",
        "Inserting an element at the location it is ideal for while traversing an array.\n",
        "On each loop iteration, insertion sort removes one element from the array. It then finds the location where that element belongs within another sorted array and inserts it there. It repeats this process until no input elements remain."
      ]
    },
    {
      "cell_type": "code",
      "metadata": {
        "id": "uo-7aBU7kiFO",
        "colab_type": "code",
        "colab": {}
      },
      "source": [
        "def insertion_sort(arr, simulation=False):\n",
        "        \n",
        "    for i in range(len(arr)):\n",
        "        cursor = arr[i]\n",
        "        pos = i\n",
        "        \n",
        "        while pos > 0 and arr[pos - 1] > cursor:\n",
        "            # Swap the number down the list\n",
        "            arr[pos] = arr[pos - 1]\n",
        "            pos = pos - 1\n",
        "        # Break and do the final swap\n",
        "        arr[pos] = cursor\n",
        "\n",
        "    return arr"
      ],
      "execution_count": 0,
      "outputs": []
    },
    {
      "cell_type": "markdown",
      "metadata": {
        "id": "v8Lb4Z7HkjXG",
        "colab_type": "text"
      },
      "source": [
        "##Merge sort\n",
        "(1) Continuously divide the unsorted list until you have N sublists, where each sublist has 1 element that is “unsorted” and N is the number of elements in the original array.\n",
        "\n",
        "(2) Repeatedly merge i.e conquer the sublists together 2 at a time to produce new sorted sublists until all elements have been fully merged into a single sorted array."
      ]
    },
    {
      "cell_type": "code",
      "metadata": {
        "id": "CrQNpQUlkwZy",
        "colab_type": "code",
        "colab": {}
      },
      "source": [
        "def merge_sort(arr):\n",
        "    # The last array split\n",
        "    if len(arr) <= 1:\n",
        "        return arr\n",
        "    mid = len(arr) // 2\n",
        "    # Perform merge_sort recursively on both halves\n",
        "    left, right = merge_sort(arr[:mid]), merge_sort(arr[mid:])\n",
        "\n",
        "    # Merge each side together\n",
        "    return merge(left, right, arr.copy())\n",
        "\n",
        "\n",
        "def merge(left, right, merged):\n",
        "\n",
        "    left_cursor, right_cursor = 0, 0\n",
        "    while left_cursor < len(left) and right_cursor < len(right):\n",
        "      \n",
        "        # Sort each one and place into the result\n",
        "        if left[left_cursor] <= right[right_cursor]:\n",
        "            merged[left_cursor+right_cursor]=left[left_cursor]\n",
        "            left_cursor += 1\n",
        "        else:\n",
        "            merged[left_cursor + right_cursor] = right[right_cursor]\n",
        "            right_cursor += 1\n",
        "            \n",
        "    for left_cursor in range(left_cursor, len(left)):\n",
        "        merged[left_cursor + right_cursor] = left[left_cursor]\n",
        "        \n",
        "    for right_cursor in range(right_cursor, len(right)):\n",
        "        merged[left_cursor + right_cursor] = right[right_cursor]\n",
        "\n",
        "    return merged"
      ],
      "execution_count": 0,
      "outputs": []
    },
    {
      "cell_type": "markdown",
      "metadata": {
        "id": "II_UMHwTkxgk",
        "colab_type": "text"
      },
      "source": [
        "##Quick sort\n",
        "(1) We first select an element which we will call the pivot from the array.\n",
        "\n",
        "(2) Move all elements that are smaller than the pivot to the left of the pivot; move all elements that are larger than the pivot to the right of the pivot. This is called the partition operation.\n",
        "\n",
        "(3) Recursively apply the above 2 steps separately to each of the sub-arrays of elements with smaller and bigger values than the last pivot.\n"
      ]
    },
    {
      "cell_type": "code",
      "metadata": {
        "id": "OR_5bRjbk2K8",
        "colab_type": "code",
        "colab": {}
      },
      "source": [
        "def partition(array, begin, end):\n",
        "    pivot_idx = begin\n",
        "    for i in xrange(begin+1, end+1):\n",
        "        if array[i] <= array[begin]:\n",
        "            pivot_idx += 1\n",
        "            array[i], array[pivot_idx] = array[pivot_idx], array[i]\n",
        "    array[pivot_idx], array[begin] = array[begin], array[pivot_idx]\n",
        "    return pivot_idx\n",
        "\n",
        "def quick_sort_recursion(array, begin, end):\n",
        "    if begin >= end:\n",
        "        return\n",
        "    pivot_idx = partition(array, begin, end)\n",
        "    quick_sort_recursion(array, begin, pivot_idx-1)\n",
        "    quick_sort_recursion(array, pivot_idx+1, end)\n",
        "\n",
        "def quick_sort(array, begin=0, end=None):\n",
        "    if end is None:\n",
        "        end = len(array) - 1\n",
        "    \n",
        "    return quick_sort_recursion(array, begin, end)"
      ],
      "execution_count": 0,
      "outputs": []
    }
  ]
}